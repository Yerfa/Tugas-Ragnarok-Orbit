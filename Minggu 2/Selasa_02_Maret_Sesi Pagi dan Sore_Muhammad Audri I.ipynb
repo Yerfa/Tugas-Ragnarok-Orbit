{
 "cells": [
  {
   "cell_type": "markdown",
   "metadata": {},
   "source": [
    "<font size='6'>TUGAS *INTRODUCTION PYTHON*</font><br>\n",
    "<font size='4'>(Tugas Pagi dan Sore)</font><br><br>\n",
    "\n",
    "<font size='3'>\n",
    "Muhammad Audri Indraputra<br>\n",
    "Kelas Ragnarok<br>\n",
    "Selasa, 1 Maret 2022<br></font>"
   ]
  },
  {
   "cell_type": "markdown",
   "metadata": {},
   "source": [
    "---"
   ]
  },
  {
   "cell_type": "markdown",
   "metadata": {},
   "source": [
    "<font size='6'>**TUGAS PAGI**"
   ]
  },
  {
   "cell_type": "markdown",
   "metadata": {},
   "source": [
    "<font size='5'>Pyhton's Interactive Consolo : The Interpreter"
   ]
  },
  {
   "cell_type": "code",
   "execution_count": 1,
   "metadata": {},
   "outputs": [
    {
     "name": "stdout",
     "output_type": "stream",
     "text": [
      "Hello World!\n"
     ]
    }
   ],
   "source": [
    "print('Hello World!')"
   ]
  },
  {
   "cell_type": "markdown",
   "metadata": {},
   "source": [
    "<font size='5'>Creating a String</font>"
   ]
  },
  {
   "cell_type": "code",
   "execution_count": 2,
   "metadata": {},
   "outputs": [
    {
     "name": "stdout",
     "output_type": "stream",
     "text": [
      "hello\n",
      "\n",
      "This is also string\n"
     ]
    }
   ],
   "source": [
    "print('hello')\n",
    "print()\n",
    "print('This is also string')"
   ]
  },
  {
   "cell_type": "markdown",
   "metadata": {},
   "source": [
    "<font size='5'>Variables : Store your Value in me!"
   ]
  },
  {
   "cell_type": "code",
   "execution_count": 3,
   "metadata": {},
   "outputs": [
    {
     "name": "stdout",
     "output_type": "stream",
     "text": [
      "New York\n",
      "<class 'str'>\n",
      "8\n"
     ]
    }
   ],
   "source": [
    "s = 'New York'\n",
    "print(s)\n",
    "print(type(s))\n",
    "print(len(s))"
   ]
  },
  {
   "cell_type": "markdown",
   "metadata": {},
   "source": [
    "<font size='5'>String Indexing"
   ]
  },
  {
   "cell_type": "code",
   "execution_count": 4,
   "metadata": {},
   "outputs": [
    {
     "name": "stdout",
     "output_type": "stream",
     "text": [
      "Hello World\n",
      "\n",
      "H\n",
      "\n",
      "e\n"
     ]
    }
   ],
   "source": [
    "s = 'Hello World'\n",
    "print(s)\n",
    "print()\n",
    "print(s[0])\n",
    "print()\n",
    "print(s[1])"
   ]
  },
  {
   "cell_type": "markdown",
   "metadata": {},
   "source": [
    "<font size='5'>String Concatenation and Repetition"
   ]
  },
  {
   "cell_type": "code",
   "execution_count": 5,
   "metadata": {},
   "outputs": [
    {
     "name": "stdout",
     "output_type": "stream",
     "text": [
      "Hello World\n",
      "Hello_Hello_Hello_\n",
      "----------\n"
     ]
    }
   ],
   "source": [
    "# concatenation (addition)\n",
    "\n",
    "s1 = 'Hello'\n",
    "s2 = 'World'\n",
    "print(s1 + \" \" + s2)\n",
    "\n",
    "# repetition (multiplication)\n",
    "\n",
    "print('Hello_' * 3)\n",
    "print('-' * 10)"
   ]
  },
  {
   "cell_type": "markdown",
   "metadata": {},
   "source": [
    "<font size='5'>String Slicing & Indexing"
   ]
  },
  {
   "cell_type": "code",
   "execution_count": 6,
   "metadata": {},
   "outputs": [
    {
     "name": "stdout",
     "output_type": "stream",
     "text": [
      "a\n",
      "e Wor\n",
      "Worl\n",
      "True\n"
     ]
    }
   ],
   "source": [
    "s = 'Namaste World'\n",
    "\n",
    "# print sub strings\n",
    "print(s[1])\n",
    "print(s[6:11])\n",
    "print(s[-5:-1])\n",
    "\n",
    "# test substring membership\n",
    "print('Wor' in s)"
   ]
  },
  {
   "cell_type": "markdown",
   "metadata": {},
   "source": [
    "<font size='5'>Basic Built-In String methods"
   ]
  },
  {
   "cell_type": "code",
   "execution_count": 7,
   "metadata": {},
   "outputs": [
    {
     "name": "stdout",
     "output_type": "stream",
     "text": [
      "HELLO WORLD\n",
      "hello world\n"
     ]
    }
   ],
   "source": [
    "s = 'Hello World'\n",
    "\n",
    "print(s.upper())\n",
    "print(s.lower())"
   ]
  },
  {
   "cell_type": "markdown",
   "metadata": {},
   "source": [
    "<font size='5'>Print Formatting"
   ]
  },
  {
   "cell_type": "code",
   "execution_count": 8,
   "metadata": {},
   "outputs": [
    {
     "name": "stdout",
     "output_type": "stream",
     "text": [
      "My name is Einstein, my age is 22, and it is True that I am married\n",
      "My name is Einstein, my age is 22, and it is True that I am married\n"
     ]
    }
   ],
   "source": [
    "name = 'Einstein'\n",
    "age = 22\n",
    "married = True\n",
    "\n",
    "print('My name is %s, my age is %s, and it is %s that I am married' %(name, age, married))\n",
    "\n",
    "print('My name is {}, my age is {}, and it is {} that I am married'.format(name, age, married))"
   ]
  },
  {
   "cell_type": "markdown",
   "metadata": {},
   "source": [
    "<font size='5'>Types of numbers"
   ]
  },
  {
   "cell_type": "code",
   "execution_count": 9,
   "metadata": {},
   "outputs": [
    {
     "name": "stdout",
     "output_type": "stream",
     "text": [
      "3\n",
      "1\n",
      "4\n",
      "1.5\n",
      "8\n",
      "105\n",
      "156\n"
     ]
    }
   ],
   "source": [
    "# Addition\n",
    "print(2+1)\n",
    "\n",
    "# subtraction\n",
    "print(2-1)\n",
    "\n",
    "# Multiplication\n",
    "print(2*2)\n",
    "\n",
    "# Division\n",
    "print(3/2)\n",
    "\n",
    "# Powers\n",
    "print(2**3)\n",
    "\n",
    "# Order of Operation followed in Python\n",
    "print(2 + 10 * 10 + 3)\n",
    "\n",
    "# Can use parenthesis to specify orders\n",
    "print((2+10) * (10+3))"
   ]
  },
  {
   "cell_type": "markdown",
   "metadata": {},
   "source": [
    "<font size='5'>Variable Assignments"
   ]
  },
  {
   "cell_type": "code",
   "execution_count": 10,
   "metadata": {},
   "outputs": [
    {
     "name": "stdout",
     "output_type": "stream",
     "text": [
      "5\n",
      "10\n",
      "10\n"
     ]
    }
   ],
   "source": [
    "# Let's create an object called 'a' and assign it the number 5\n",
    "a = 5\n",
    "print(a)\n",
    "\n",
    "# Addition the objects\n",
    "print(a+a)\n",
    "\n",
    "# Reassingment\n",
    "a = 10\n",
    "print(a)"
   ]
  },
  {
   "cell_type": "markdown",
   "metadata": {},
   "source": [
    "---"
   ]
  },
  {
   "cell_type": "markdown",
   "metadata": {},
   "source": [
    "<font size='6'>**TUGAS SORE**"
   ]
  },
  {
   "cell_type": "markdown",
   "metadata": {},
   "source": [
    "<font size='5'>Identifying Data Types"
   ]
  },
  {
   "cell_type": "code",
   "execution_count": 11,
   "metadata": {},
   "outputs": [
    {
     "name": "stdout",
     "output_type": "stream",
     "text": [
      "<class 'int'>\n",
      "<class 'float'>\n"
     ]
    }
   ],
   "source": [
    "a = 42\n",
    "b = 32.30\n",
    "\n",
    "print(type(a))\n",
    "print(type(b))"
   ]
  },
  {
   "cell_type": "markdown",
   "metadata": {},
   "source": [
    "<font size='5'>Lists"
   ]
  },
  {
   "cell_type": "code",
   "execution_count": 12,
   "metadata": {},
   "outputs": [
    {
     "name": "stdout",
     "output_type": "stream",
     "text": [
      "[1, 2, 3]\n",
      "['A string', 23, 100.232, 'o']\n",
      "4\n"
     ]
    }
   ],
   "source": [
    "my_list = [1,2,3]\n",
    "print(my_list)\n",
    "\n",
    "my_list = ['A string',23,100.232,'o']\n",
    "print(my_list)\n",
    "\n",
    "print(len(my_list))"
   ]
  },
  {
   "cell_type": "markdown",
   "metadata": {},
   "source": [
    "<font size='5'>Adding New Elements to a list"
   ]
  },
  {
   "cell_type": "code",
   "execution_count": 13,
   "metadata": {},
   "outputs": [
    {
     "name": "stdout",
     "output_type": "stream",
     "text": [
      "[1, 2.3, ['a', 'b'], 'New York']\n",
      "[1, 2.3, ['a', 'b'], 'New York', 3.1]\n",
      "[1, 2, 3]\n",
      "[1, 2, 3, 4, 5, 6]\n"
     ]
    }
   ],
   "source": [
    "l = [1, 2.3, ['a', 'b'], 'New York']\n",
    "print(l)\n",
    "\n",
    "l.append(3.1)\n",
    "print(l)\n",
    "\n",
    "l = [1, 2, 3]\n",
    "print(l)\n",
    "\n",
    "l.extend([4, 5, 6])\n",
    "print(l)"
   ]
  },
  {
   "cell_type": "markdown",
   "metadata": {},
   "source": [
    "<font size='5'>Slicing"
   ]
  },
  {
   "cell_type": "code",
   "execution_count": 14,
   "metadata": {},
   "outputs": [
    {
     "name": "stdout",
     "output_type": "stream",
     "text": [
      "[0, 1, 2, 3, 4, 5, 6, 7, 8, 9]\n",
      "elements from index 4 to 7: [4, 5, 6]\n",
      "alternate elements, starting at index 0: [0, 2, 4, 6, 8]\n",
      "every third element, starting at index 1: [1, 4, 7]\n"
     ]
    }
   ],
   "source": [
    "lst = list(range(10))\n",
    "print(lst)\n",
    "\n",
    "print('elements from index 4 to 7:', lst[4:7])\n",
    "print('alternate elements, starting at index 0:', lst[0::2])\n",
    "\n",
    "print('every third element, starting at index 1:', lst[1::3])"
   ]
  },
  {
   "cell_type": "markdown",
   "metadata": {},
   "source": [
    "<font size='5'>Constructing a Dictionary"
   ]
  },
  {
   "cell_type": "code",
   "execution_count": 15,
   "metadata": {},
   "outputs": [
    {
     "name": "stdout",
     "output_type": "stream",
     "text": [
      "value2\n",
      "{'key1': 123, 'key2': 'value2'}\n",
      "0\n",
      "-123\n",
      "{'animal': 'Dog'}\n"
     ]
    }
   ],
   "source": [
    "my_dict = {'key1':'value1','key2':'value2'}\n",
    "print(my_dict['key2'])\n",
    "\n",
    "my_dict['key1'] = 123\n",
    "print(my_dict)\n",
    "\n",
    "my_dict['key1'] = my_dict['key1'] - 123\n",
    "print(my_dict['key1'])\n",
    "\n",
    "my_dict['key1'] -= 123\n",
    "print(my_dict['key1'])\n",
    "\n",
    "d = {}\n",
    "d['animal'] = 'Dog'\n",
    "print(d)"
   ]
  },
  {
   "cell_type": "markdown",
   "metadata": {},
   "source": [
    "<font size='5'>Set and Booleans"
   ]
  },
  {
   "cell_type": "code",
   "execution_count": 16,
   "metadata": {},
   "outputs": [
    {
     "name": "stdout",
     "output_type": "stream",
     "text": [
      "set()\n",
      "{1}\n",
      "{1, 2}\n",
      "{1, 2}\n",
      "[1, 1, 2, 2, 3, 4, 5, 1, 1]\n",
      "{1, 2, 3, 4, 5}\n"
     ]
    }
   ],
   "source": [
    "x = set()\n",
    "print(x)\n",
    "\n",
    "x.add(1)\n",
    "print(x)\n",
    "\n",
    "x.add(2)\n",
    "print(x)\n",
    "\n",
    "x.add(1)\n",
    "print(x)\n",
    "\n",
    "l = [1,1,2,2,3,4,5,1,1]\n",
    "print(l)\n",
    "print(set(l))"
   ]
  }
 ],
 "metadata": {
  "interpreter": {
   "hash": "7b44a6d216fe1c4fd6dcfc86e1209b9f13f5f07f0e5fe2b02b2a54f45312fa36"
  },
  "kernelspec": {
   "display_name": "Python 3.9.1 64-bit",
   "language": "python",
   "name": "python3"
  },
  "language_info": {
   "codemirror_mode": {
    "name": "ipython",
    "version": 3
   },
   "file_extension": ".py",
   "mimetype": "text/x-python",
   "name": "python",
   "nbconvert_exporter": "python",
   "pygments_lexer": "ipython3",
   "version": "3.9.1"
  },
  "orig_nbformat": 4
 },
 "nbformat": 4,
 "nbformat_minor": 2
}
