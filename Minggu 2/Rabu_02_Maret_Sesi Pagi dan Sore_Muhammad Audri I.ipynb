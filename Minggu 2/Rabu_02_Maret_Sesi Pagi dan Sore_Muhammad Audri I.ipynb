{
 "cells": [
  {
   "cell_type": "markdown",
   "metadata": {},
   "source": [
    "<font size='6'>TUGAS FGD RABU</font><br>\n",
    "<font size='4'>(Tugas Sesi Pagi dan Sore)</font><br><br>\n",
    "\n",
    "<font size='3'>\n",
    "Muhammad Audri Indraputra<br>\n",
    "Kelas Ragnarok<br>\n",
    "Rabu, 2 Maret 2022<br></font>"
   ]
  },
  {
   "cell_type": "markdown",
   "metadata": {},
   "source": [
    "---"
   ]
  },
  {
   "cell_type": "markdown",
   "metadata": {},
   "source": [
    "<font size='6'>Sesi Pagi"
   ]
  },
  {
   "cell_type": "markdown",
   "metadata": {},
   "source": [
    "---"
   ]
  },
  {
   "cell_type": "markdown",
   "metadata": {},
   "source": [
    "<font size='5'>No 1</font><br>\n",
    "<font size='4'>\n",
    "1. False <br>\n",
    "2. True <br>\n",
    "3. True <br>\n",
    "4. True <br>\n",
    "5. False"
   ]
  },
  {
   "cell_type": "markdown",
   "metadata": {},
   "source": [
    "<font size='5'>No 2"
   ]
  },
  {
   "cell_type": "code",
   "execution_count": 1,
   "metadata": {},
   "outputs": [
    {
     "name": "stdout",
     "output_type": "stream",
     "text": [
      "Hello!\n",
      "You entered: Haii\n"
     ]
    }
   ],
   "source": [
    "print('Hello!')\n",
    "something = input('Enter something: ')\n",
    "print('You entered:', something)"
   ]
  },
  {
   "cell_type": "markdown",
   "metadata": {},
   "source": [
    "<font size='5'>No 3"
   ]
  },
  {
   "cell_type": "code",
   "execution_count": 2,
   "metadata": {},
   "outputs": [
    {
     "name": "stdout",
     "output_type": "stream",
     "text": [
      "Hello!\n",
      "I don't know what Kucing means.\n"
     ]
    }
   ],
   "source": [
    "print('Hello!')\n",
    "something = input('Enter something: ')\n",
    "if something == 'hello':\n",
    "    print('Hello for you too!')\n",
    "\n",
    "elif something == 'hi':\n",
    "    print('Hi there!')\n",
    "else:\n",
    "    print('I don\\'t know what', something, 'means.')"
   ]
  },
  {
   "cell_type": "markdown",
   "metadata": {},
   "source": [
    "<font size='5'>No 4"
   ]
  },
  {
   "cell_type": "code",
   "execution_count": 3,
   "metadata": {},
   "outputs": [
    {
     "name": "stdout",
     "output_type": "stream",
     "text": [
      "halo hai\n",
      "halo hai\n",
      "halo hai\n",
      "halo hai\n",
      "halo hai\n",
      "halo hai\n",
      "halo hai\n",
      "halo hai\n",
      "halo hai\n",
      "halo hai\n",
      "halo hai\n",
      "halo hai\n",
      "halo hai\n",
      "halo hai\n",
      "halo hai\n",
      "halo hai\n",
      "halo hai\n",
      "halo hai\n",
      "halo hai\n",
      "halo hai\n",
      "halo hai\n",
      "halo hai\n",
      "halo hai\n",
      "halo hai\n",
      "halo hai\n",
      "halo hai\n",
      "halo hai\n",
      "halo hai\n",
      "halo hai\n",
      "halo hai\n",
      "halo hai\n",
      "halo hai\n",
      "halo hai\n",
      "halo hai\n",
      "halo hai\n",
      "halo hai\n",
      "halo hai\n",
      "halo hai\n",
      "halo hai\n",
      "halo hai\n",
      "halo hai\n",
      "halo hai\n",
      "halo hai\n",
      "halo hai\n",
      "halo hai\n",
      "halo hai\n",
      "halo hai\n",
      "halo hai\n",
      "halo hai\n",
      "halo hai\n",
      "halo hai\n",
      "halo hai\n",
      "halo hai\n",
      "halo hai\n",
      "halo hai\n",
      "halo hai\n",
      "halo hai\n",
      "halo hai\n",
      "halo hai\n",
      "halo hai\n",
      "halo hai\n",
      "halo hai\n",
      "halo hai\n",
      "halo hai\n",
      "halo hai\n",
      "halo hai\n",
      "halo hai\n",
      "halo hai\n",
      "halo hai\n",
      "halo hai\n",
      "halo hai\n",
      "halo hai\n",
      "halo hai\n",
      "halo hai\n",
      "halo hai\n",
      "halo hai\n",
      "halo hai\n",
      "halo hai\n",
      "halo hai\n",
      "halo hai\n",
      "halo hai\n",
      "halo hai\n",
      "halo hai\n",
      "halo hai\n",
      "halo hai\n",
      "halo hai\n",
      "halo hai\n",
      "halo hai\n",
      "halo hai\n",
      "halo hai\n",
      "halo hai\n",
      "halo hai\n",
      "halo hai\n",
      "halo hai\n",
      "halo hai\n",
      "halo hai\n",
      "halo hai\n",
      "halo hai\n",
      "\n"
     ]
    }
   ],
   "source": [
    "print('halo hai\\n'*98)"
   ]
  },
  {
   "cell_type": "markdown",
   "metadata": {},
   "source": [
    "<font size='5'>No 5"
   ]
  },
  {
   "cell_type": "code",
   "execution_count": 4,
   "metadata": {},
   "outputs": [],
   "source": [
    "# Fungsi Suit\n",
    "def suit():\n",
    "    player = [0, 0]\n",
    "    a = 0\n",
    "    kemungkinan = [ 'gunting', 'kertas', 'batu']\n",
    "\n",
    "    for i in range(0,2):\n",
    "        while( player[i] not in kemungkinan ):\n",
    "            player[i] = input('Player %d ? ' %(i+1)).lower()\n",
    "            if(player[i] not in kemungkinan):\n",
    "                print('Input tidak valid!')\n",
    "                \n",
    "    kemenangan = kemungkinan.index(player[0]) - kemungkinan.index(player[1])\n",
    "    if(kemenangan == 0): print('Player 1 dan 2 Seri !')\n",
    "    elif(kemenangan == -1 or kemenangan == 2): print('Player 1 Wins !')\n",
    "    else: print('Player 2 Wins !')"
   ]
  },
  {
   "cell_type": "code",
   "execution_count": 5,
   "metadata": {},
   "outputs": [
    {
     "name": "stdout",
     "output_type": "stream",
     "text": [
      "Player 1 Wins !\n"
     ]
    }
   ],
   "source": [
    "# Main Suit\n",
    "suit()"
   ]
  },
  {
   "cell_type": "markdown",
   "metadata": {},
   "source": [
    "<font size='5'>No 6"
   ]
  },
  {
   "cell_type": "code",
   "execution_count": 6,
   "metadata": {},
   "outputs": [],
   "source": [
    "value = 'kosong'\n",
    "\n",
    "while( value != 'berhenti' ):\n",
    "    value = input().lower()"
   ]
  },
  {
   "cell_type": "markdown",
   "metadata": {},
   "source": [
    "<font size='5'>No 7"
   ]
  },
  {
   "cell_type": "code",
   "execution_count": 7,
   "metadata": {},
   "outputs": [],
   "source": [
    "# Memasukan Menu\n",
    "menu = {'makanan' : ['Donat', 'Bakwan', 'Onde-onde', 'Lemper', 'Risol'], \n",
    "    'harga': [1250, 1000, 800, 1250, 1500]}\n",
    "\n",
    "def menu_list():\n",
    "    total_menu = 0\n",
    "    total_harga = 0\n",
    "    print('MENU JAJANAN PASAR')\n",
    "    for i in range(1,len(menu['makanan']) + 1):\n",
    "        print('  %d. %s - Rp %d' %(i, menu['makanan'][i-1], menu['harga'][i-1]))\n",
    "    print('Ketik \\'cukup\\' jika sudah selesai memesan\\n')\n",
    "\n",
    "    input_user = '-1'\n",
    "\n",
    "    while True:\n",
    "        try:\n",
    "            while(str(input_user).lower() != 'cukup'):\n",
    "                input_user = input('Input user: ')\n",
    "\n",
    "                if(str(input_user).lower() == 'cukup'):\n",
    "                    print('\\nBanyak makanan yang dipesan ialah %d dengan total harga Rp %d' %(total_menu, total_harga))\n",
    "                    print('Terima kasih sudah berbelanja jajanan pasar kami!')\n",
    "                    break\n",
    "                else:\n",
    "                    input_user = int(input_user)\n",
    "                    \n",
    "                    if(input_user <= 0 or input_user > len(menu['makanan'])): print('Perintah tidak ditemukan !')\n",
    "                    else:\n",
    "                        print('Kamu memesan %s dengan harga Rp %d' %(menu['makanan'][input_user - 1], menu['harga'][input_user - 1]))\n",
    "                        total_menu += 1\n",
    "                        total_harga += menu['harga'][input_user - 1]\n",
    "            \n",
    "            break\n",
    "\n",
    "        except:\n",
    "            print('Perintah tidak ditemukan !')"
   ]
  },
  {
   "cell_type": "code",
   "execution_count": 8,
   "metadata": {},
   "outputs": [
    {
     "name": "stdout",
     "output_type": "stream",
     "text": [
      "MENU JAJANAN PASAR\n",
      "  1. Donat - Rp 1250\n",
      "  2. Bakwan - Rp 1000\n",
      "  3. Onde-onde - Rp 800\n",
      "  4. Lemper - Rp 1250\n",
      "  5. Risol - Rp 1500\n",
      "Ketik 'cukup' jika sudah selesai memesan\n",
      "\n",
      "Kamu memesan Donat dengan harga Rp 1250\n",
      "Kamu memesan Donat dengan harga Rp 1250\n",
      "Kamu memesan Lemper dengan harga Rp 1250\n",
      "Kamu memesan Onde-onde dengan harga Rp 800\n",
      "Kamu memesan Bakwan dengan harga Rp 1000\n",
      "\n",
      "Banyak makanan yang dipesan ialah 5 dengan total harga Rp 5550\n",
      "Terima kasih sudah berbelanja jajanan pasar kami!\n"
     ]
    }
   ],
   "source": [
    "menu_list()"
   ]
  },
  {
   "cell_type": "markdown",
   "metadata": {},
   "source": [
    "<font size='5'>No 8"
   ]
  },
  {
   "cell_type": "code",
   "execution_count": 9,
   "metadata": {},
   "outputs": [],
   "source": [
    "# Memasukan Menu\n",
    "menu = {'makanan' : ['Donat', 'Bakwan', 'Onde-onde', 'Lemper', 'Risol'], \n",
    "    'harga': [1250, 1000, 800, 1250, 1500]}\n",
    "\n",
    "def tampilan_menu():\n",
    "    print('MENU JAJANAN PASAR')\n",
    "    for i in range(1,len(menu['makanan']) + 1):\n",
    "        print('  %d. %s - Rp %d' %(i, menu['makanan'][i-1], menu['harga'][i-1]))\n",
    "    print('Ketik \\'cukup\\' jika sudah selesai memesan\\n')\n",
    "\n",
    "def menu_list_2():\n",
    "    total_menu = 0\n",
    "    total_harga = 0\n",
    "    tampilan_menu()\n",
    "\n",
    "    input_user = '-1'\n",
    "\n",
    "    while True:\n",
    "        try:\n",
    "            while(str(input_user).lower() != 'cukup'):\n",
    "                input_user = input('Input user: ')\n",
    "\n",
    "                if(str(input_user).lower() == 'cukup'):\n",
    "                    print('\\nBanyak makanan yang dipesan ialah %d dengan total harga Rp %d' %(total_menu, total_harga))\n",
    "                    print('Terima kasih sudah berbelanja jajanan pasar kami!')\n",
    "                    break\n",
    "                else:\n",
    "\n",
    "                    input_user = int(input_user)\n",
    "                    \n",
    "                    if(input_user <= 0 or input_user > len(menu['makanan'])): print('Perintah tidak ditemukan !')\n",
    "                    else:\n",
    "                        \n",
    "                        banyak_makanan = 0\n",
    "                     \n",
    "                        while True:\n",
    "                            try:\n",
    "                                while(int(banyak_makanan) <= 0):\n",
    "                                    banyak_makanan = int(input('Banyak makanan :'))\n",
    "                                break\n",
    "                            except:\n",
    "                                print('Perintah tidak ditemukan !')\n",
    "\n",
    "                        print('Kamu memesan %d buah %s dengan harga Rp %d dan total harga Rp %d' %(banyak_makanan, menu['makanan'][input_user - 1], menu['harga'][input_user - 1], menu['harga'][input_user - 1] * banyak_makanan))\n",
    "                        total_menu += banyak_makanan\n",
    "                        total_harga += menu['harga'][input_user - 1] * banyak_makanan\n",
    "            \n",
    "            break\n",
    "\n",
    "        except:\n",
    "            print('Perintah tidak ditemukan !')"
   ]
  },
  {
   "cell_type": "code",
   "execution_count": 10,
   "metadata": {},
   "outputs": [
    {
     "name": "stdout",
     "output_type": "stream",
     "text": [
      "MENU JAJANAN PASAR\n",
      "  1. Donat - Rp 1250\n",
      "  2. Bakwan - Rp 1000\n",
      "  3. Onde-onde - Rp 800\n",
      "  4. Lemper - Rp 1250\n",
      "  5. Risol - Rp 1500\n",
      "Ketik 'cukup' jika sudah selesai memesan\n",
      "\n",
      "Kamu memesan 4 buah Onde-onde dengan harga Rp 800 dan total harga Rp 3200\n",
      "Kamu memesan 5 buah Bakwan dengan harga Rp 1000 dan total harga Rp 5000\n",
      "Kamu memesan 10 buah Lemper dengan harga Rp 1250 dan total harga Rp 12500\n",
      "\n",
      "Banyak makanan yang dipesan ialah 19 dengan total harga Rp 20700\n",
      "Terima kasih sudah berbelanja jajanan pasar kami!\n"
     ]
    }
   ],
   "source": [
    "menu_list_2()"
   ]
  },
  {
   "cell_type": "markdown",
   "metadata": {},
   "source": [
    "---"
   ]
  },
  {
   "cell_type": "markdown",
   "metadata": {},
   "source": [
    "<font size='6'>Sesi Sore"
   ]
  },
  {
   "cell_type": "markdown",
   "metadata": {},
   "source": [
    "---"
   ]
  },
  {
   "cell_type": "markdown",
   "metadata": {},
   "source": [
    "<font size='5'>No 1"
   ]
  },
  {
   "cell_type": "code",
   "execution_count": 6,
   "metadata": {},
   "outputs": [
    {
     "data": {
      "text/plain": [
       "True"
      ]
     },
     "execution_count": 6,
     "metadata": {},
     "output_type": "execute_result"
    }
   ],
   "source": [
    "def mod_manual_version(awal, akhir):\n",
    "    return awal % akhir == 0\n",
    "\n",
    "mod_manual_version(6,3)\n"
   ]
  },
  {
   "cell_type": "markdown",
   "metadata": {},
   "source": [
    "<font size='5'>No 2"
   ]
  },
  {
   "cell_type": "code",
   "execution_count": 12,
   "metadata": {},
   "outputs": [
    {
     "name": "stdout",
     "output_type": "stream",
     "text": [
      "1. Soup and salad\n",
      "2. Pasta with meat sauce\n",
      "3. chef's special\n",
      "One chef's special coming right up!\n"
     ]
    }
   ],
   "source": [
    "list_menu = ['Soup and salad', 'Pasta with meat sauce', 'chef\\'s special']\n",
    "def menu():\n",
    "    for i in range(1,len(list_menu) + 1):\n",
    "        print('%d. %s' %(i, list_menu[i-1]))\n",
    "    \n",
    "    while True:\n",
    "        try:\n",
    "            choice = -1\n",
    "            while(int(choice) <= 0 or int(choice) > len(list_menu)):\n",
    "                if(int(choice) >= len(list_menu) and int(choice) <= 0): int('duarr')\n",
    "                else: choice = int(input('Which number would you like to order? '))\n",
    "            break\n",
    "        except:\n",
    "            print('Sorry, that is not a valid choice.')\n",
    "    \n",
    "    print('One %s coming right up!' %(list_menu[choice-1]))\n",
    "            \n",
    "menu()"
   ]
  },
  {
   "cell_type": "code",
   "execution_count": 13,
   "metadata": {},
   "outputs": [
    {
     "data": {
      "text/plain": [
       "3"
      ]
     },
     "execution_count": 13,
     "metadata": {},
     "output_type": "execute_result"
    }
   ],
   "source": [
    "len(list_menu)"
   ]
  },
  {
   "cell_type": "markdown",
   "metadata": {},
   "source": [
    "<font size='5'>No 3"
   ]
  },
  {
   "cell_type": "code",
   "execution_count": 16,
   "metadata": {},
   "outputs": [
    {
     "data": {
      "text/plain": [
       "True"
      ]
     },
     "execution_count": 16,
     "metadata": {},
     "output_type": "execute_result"
    }
   ],
   "source": [
    "import random\n",
    "\n",
    "def rand_divis_3():\n",
    "    return int(random.randint(0,100)) % 3 == 0\n",
    "\n",
    "rand_divis_3()"
   ]
  },
  {
   "cell_type": "markdown",
   "metadata": {},
   "source": [
    "<font size='5'>No 4"
   ]
  },
  {
   "cell_type": "code",
   "execution_count": 15,
   "metadata": {},
   "outputs": [
    {
     "data": {
      "text/plain": [
       "True"
      ]
     },
     "execution_count": 15,
     "metadata": {},
     "output_type": "execute_result"
    }
   ],
   "source": [
    "def Not_Equal(a, b):\n",
    "    if(a == b): return False\n",
    "    else: return True\n",
    "\n",
    "Not_Equal(5,3)"
   ]
  },
  {
   "cell_type": "markdown",
   "metadata": {},
   "source": [
    "<font size='5'>No 5</font><br><br>\n",
    "\n",
    "<font size='3'>Pada kode, variable 'name' tidak bernilai apa-apa karena hanya sebagai variable sementara di fungsi ask_name(). Kemudian, penggunaan ask_name() juga tidak mempengaruhi apa-apa karena tidak ada suatu nilai yang dikembalikan."
   ]
  }
 ],
 "metadata": {
  "interpreter": {
   "hash": "7b44a6d216fe1c4fd6dcfc86e1209b9f13f5f07f0e5fe2b02b2a54f45312fa36"
  },
  "kernelspec": {
   "display_name": "Python 3.9.1 64-bit",
   "language": "python",
   "name": "python3"
  },
  "language_info": {
   "codemirror_mode": {
    "name": "ipython",
    "version": 3
   },
   "file_extension": ".py",
   "mimetype": "text/x-python",
   "name": "python",
   "nbconvert_exporter": "python",
   "pygments_lexer": "ipython3",
   "version": "3.9.1"
  },
  "orig_nbformat": 4
 },
 "nbformat": 4,
 "nbformat_minor": 2
}
