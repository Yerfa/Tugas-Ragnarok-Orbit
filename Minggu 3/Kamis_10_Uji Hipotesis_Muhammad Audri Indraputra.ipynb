{
 "cells": [
  {
   "cell_type": "markdown",
   "metadata": {},
   "source": [
    "<font size='6'>TUGAS UJI HIPOTESIS</font><br>\n",
    "\n",
    "<font size='3'>\n",
    "Muhammad Audri Indraputra<br>\n",
    "Kelas Ragnarok<br>\n",
    "Rabu, 9 Maret 2022<br></font>"
   ]
  },
  {
   "cell_type": "markdown",
   "metadata": {},
   "source": [
    "---"
   ]
  },
  {
   "cell_type": "code",
   "execution_count": 16,
   "metadata": {},
   "outputs": [],
   "source": [
    "import numpy as np\n",
    "import matplotlib.pyplot as plt\n",
    "import pandas as pd\n",
    "from scipy import stats\n",
    "import seaborn as sns"
   ]
  },
  {
   "cell_type": "markdown",
   "metadata": {},
   "source": [
    "<font size='5'>**LATIHAN 1**"
   ]
  },
  {
   "cell_type": "code",
   "execution_count": 17,
   "metadata": {},
   "outputs": [],
   "source": [
    "A = np.array([27, 29, 27, 32, 34, 38, 39, 27, 30, 32, 34, 36, 38, 40])\n",
    "B = np.array([28, 30, 29, 35, 34, 37, 39, 28, 30, 32, 33, 35, 39, 39])"
   ]
  },
  {
   "cell_type": "code",
   "execution_count": 18,
   "metadata": {},
   "outputs": [
    {
     "data": {
      "text/plain": [
       "True"
      ]
     },
     "execution_count": 18,
     "metadata": {},
     "output_type": "execute_result"
    }
   ],
   "source": [
    "len(A) == len(B)"
   ]
  },
  {
   "cell_type": "markdown",
   "metadata": {},
   "source": [
    "<font size='4'>**Uji Normalitas**"
   ]
  },
  {
   "cell_type": "code",
   "execution_count": 19,
   "metadata": {},
   "outputs": [
    {
     "name": "stderr",
     "output_type": "stream",
     "text": [
      "C:\\Users\\RAYI\\AppData\\Local\\Programs\\Python\\Python39\\lib\\site-packages\\seaborn\\distributions.py:2619: FutureWarning: `distplot` is a deprecated function and will be removed in a future version. Please adapt your code to use either `displot` (a figure-level function with similar flexibility) or `histplot` (an axes-level function for histograms).\n",
      "  warnings.warn(msg, FutureWarning)\n"
     ]
    },
    {
     "data": {
      "image/png": "[encoded data removed]",
      "text/plain": [
       "<Figure size 432x288 with 1 Axes>"
      ]
     },
     "metadata": {
      "needs_background": "light"
     },
     "output_type": "display_data"
    },
    {
     "name": "stderr",
     "output_type": "stream",
     "text": [
      "C:\\Users\\RAYI\\AppData\\Local\\Programs\\Python\\Python39\\lib\\site-packages\\seaborn\\distributions.py:2619: FutureWarning: `distplot` is a deprecated function and will be removed in a future version. Please adapt your code to use either `displot` (a figure-level function with similar flexibility) or `histplot` (an axes-level function for histograms).\n",
      "  warnings.warn(msg, FutureWarning)\n"
     ]
    },
    {
     "data": {
      "image/png": "[encoded data removed]",
      "text/plain": [
       "<Figure size 432x288 with 1 Axes>"
      ]
     },
     "metadata": {
      "needs_background": "light"
     },
     "output_type": "display_data"
    }
   ],
   "source": [
    "sns.distplot(A)\n",
    "plt.show()\n",
    "sns.distplot(B, color='green')\n",
    "plt.show()"
   ]
  },
  {
   "cell_type": "markdown",
   "metadata": {},
   "source": [
    "<font size='3'>\n",
    "Berdasarkan grafik tersebut, yaitu data banyak berkumpul disekitar median, sehingga dapat disimpulkan berdistribusi normal"
   ]
  },
  {
   "cell_type": "markdown",
   "metadata": {},
   "source": [
    "<font size='4'>**Uji Komogorov-Smirnov**"
   ]
  },
  {
   "cell_type": "code",
   "execution_count": 20,
   "metadata": {},
   "outputs": [
    {
     "name": "stdout",
     "output_type": "stream",
     "text": [
      "uji kolmogorov smirnov data A =  KstestResult(statistic=0.15010032999139777, pvalue=0.8656406959340622)\n",
      "uji kolmogorov smirnov data B =  KstestResult(statistic=0.16609147661220497, pvalue=0.7771854894576767)\n"
     ]
    }
   ],
   "source": [
    "z_score_A = stats.zscore(A)\n",
    "z_score_B = stats.zscore(B)\n",
    "\n",
    "print('uji kolmogorov smirnov data A = ', stats.kstest(z_score_A, \"norm\"))\n",
    "print('uji kolmogorov smirnov data B = ', stats.kstest(z_score_B, \"norm\"))"
   ]
  },
  {
   "cell_type": "markdown",
   "metadata": {},
   "source": [
    "<font size='3'>A dan B memiliki p-value > 0.005, sehingga H0 diterima yang membuktikan A dan B berdistribusi normal"
   ]
  },
  {
   "cell_type": "markdown",
   "metadata": {},
   "source": [
    "<font size='4'>**Independent Sample T-Test (Parametik)**"
   ]
  },
  {
   "cell_type": "markdown",
   "metadata": {},
   "source": [
    "<font size='3'>\n",
    "H0 = Tidak ada perbedaan yang signifikan <br>\n",
    "H1 = Ada perbedaan yang signifika<br><br>\n",
    "\n",
    "Toleransi > 0.05"
   ]
  },
  {
   "cell_type": "code",
   "execution_count": 21,
   "metadata": {},
   "outputs": [
    {
     "name": "stdout",
     "output_type": "stream",
     "text": [
      "Hasil uji T-Test :\n",
      "Ttest_indResult(statistic=-0.21626215417063352, pvalue=0.8304712072353047)\n"
     ]
    }
   ],
   "source": [
    "t_value = stats.ttest_ind(A, B)\n",
    "print(f'Hasil uji T-Test :\\n{t_value}')"
   ]
  },
  {
   "cell_type": "markdown",
   "metadata": {},
   "source": [
    "<font size='3'>P-Value = 0.83 > 0.05, sehingga H0 diterima dengan alasan tidak ada perbedaan yang signifikan antara jumlah A dan B"
   ]
  },
  {
   "cell_type": "markdown",
   "metadata": {},
   "source": [
    "<font size='4'>**Uji Mann-Whitney**</font><br><br>\n",
    "\n",
    "<font size='3'>Pengujian dilakukan untuk data yang tidak berdistribusi normal dan 2 kelompok independent."
   ]
  },
  {
   "cell_type": "code",
   "execution_count": 22,
   "metadata": {},
   "outputs": [
    {
     "data": {
      "text/plain": [
       "MannwhitneyuResult(statistic=91.0, pvalue=0.7642583560538347)"
      ]
     },
     "execution_count": 22,
     "metadata": {},
     "output_type": "execute_result"
    }
   ],
   "source": [
    "stats.mannwhitneyu(A, B)"
   ]
  },
  {
   "cell_type": "markdown",
   "metadata": {},
   "source": [
    "---"
   ]
  },
  {
   "cell_type": "markdown",
   "metadata": {},
   "source": [
    "<font size='5'>LATIHAN 2</font><br><br>\n",
    "\n",
    "<font size='3'>Kesimpulannya ialah:<br>\n",
    "\n",
    "A dan B ialah berdistribusi normal dan dapat dilihat dari grafik distribusi yang cembung keatas di tengah, nilai p-value A dan B yang tergolong dapat diterima (diatas nilai penolakan) dengan menggunakan Uji Komogorov-Smirnov, dan nilai p-value hubungan antara A dan B yang dapat diterima (diatas penolakan) dengan menggunakan T-Test dan Uji mann-Whitney."
   ]
  },
  {
   "cell_type": "markdown",
   "metadata": {},
   "source": [
    "---"
   ]
  },
  {
   "cell_type": "markdown",
   "metadata": {},
   "source": [
    "<font size='5'>LATIHAN 3<br><br></font>\n",
    "\n",
    "<font size='4'>Coba simpulkan apakah artinya data berdistribusi normal?<br><br>\n",
    "\n",
    "Jawab :"
   ]
  },
  {
   "cell_type": "code",
   "execution_count": 23,
   "metadata": {},
   "outputs": [],
   "source": [
    "final_exam = pd.read_csv(r'C:\\Users\\RAYI\\Documents\\GitHub\\pembelajaran-python-AI\\final_exam.csv')"
   ]
  },
  {
   "cell_type": "code",
   "execution_count": 24,
   "metadata": {},
   "outputs": [
    {
     "data": {
      "image/png": "[encoded data removed]",
      "text/plain": [
       "<Figure size 432x288 with 6 Axes>"
      ]
     },
     "metadata": {
      "needs_background": "light"
     },
     "output_type": "display_data"
    }
   ],
   "source": [
    "final_exam.hist()\n",
    "plt.show()"
   ]
  },
  {
   "cell_type": "markdown",
   "metadata": {},
   "source": [
    "<font size='3'>Dapat dilihat dengan menggunakan grafik bahwa seluruhnya besar kemungkinan tidak berdistribusi normal, tetapi perlu ditinjau dengan beberapa metode.<br><br>\n",
    "\n",
    "Dengan menggunakan uji Kolmogorov-Smirnov sebagai berikut."
   ]
  },
  {
   "cell_type": "code",
   "execution_count": 25,
   "metadata": {},
   "outputs": [
    {
     "name": "stdout",
     "output_type": "stream",
     "text": [
      "normality for  big_west = KstestResult(statistic=0.1463623852887705, pvalue=0.28678269325815053)\n",
      "normality for  small_west = KstestResult(statistic=0.09305748870693209, pvalue=0.8171989638137918)\n",
      "normality for  capital_city = KstestResult(statistic=0.1723544820281414, pvalue=0.1379003575286657)\n",
      "normality for  small_east = KstestResult(statistic=0.11522951440351409, pvalue=0.5778423663395744)\n",
      "normality for  big_east = KstestResult(statistic=0.09709346617838455, pvalue=0.7763472906058266)\n"
     ]
    }
   ],
   "source": [
    "area = ['big_west', 'small_west', 'capital_city', 'small_east', 'big_east']\n",
    "for a in area:\n",
    "  z_score = stats.zscore(final_exam[a])\n",
    "  normality = stats.kstest(z_score, 'norm', )\n",
    "  print('normality for ', a, '=', normality)"
   ]
  },
  {
   "cell_type": "markdown",
   "metadata": {},
   "source": [
    "<font size='3'>Dapat dilihat bahwa nilai p-value keseluruhan kota ialah > 0.05, sehingga seluruh kota berdistribusi normal."
   ]
  },
  {
   "cell_type": "markdown",
   "metadata": {},
   "source": [
    "<font size='4'>**Uji Homogenitas**<br><br>\n",
    "\n",
    "</font><font size='3'>H0 = Varians semua kelompok cendrung sama (homogen)<br>\n",
    "H1 = Varians semua kelompok cendrung tidak sama (heterogen)"
   ]
  },
  {
   "cell_type": "code",
   "execution_count": 26,
   "metadata": {},
   "outputs": [
    {
     "data": {
      "text/plain": [
       "LeveneResult(statistic=0.5104303607286808, pvalue=0.728125042716542)"
      ]
     },
     "execution_count": 26,
     "metadata": {},
     "output_type": "execute_result"
    }
   ],
   "source": [
    "stats.levene(final_exam['big_west'], final_exam['small_west'], final_exam['capital_city']\n",
    "             , final_exam['small_east'], final_exam['big_east'])"
   ]
  },
  {
   "cell_type": "markdown",
   "metadata": {},
   "source": [
    "<font size='3'>Karena p-value > 0.05, maka H0 diterima, sehingga homogenitas ANOVA sudah terpenuhi."
   ]
  },
  {
   "cell_type": "markdown",
   "metadata": {},
   "source": [
    "<font size='4'>**Uji ANOVA (parametik)**<br><br>\n",
    "\n",
    "</font><font size='3'>\n",
    "H0 = Kualitas pendidikan merata di setiap wilayahnya<br>\n",
    "H1 = Kualitas pendidikan tidak merata di setiap wilayah"
   ]
  },
  {
   "cell_type": "code",
   "execution_count": 27,
   "metadata": {},
   "outputs": [
    {
     "data": {
      "text/plain": [
       "F_onewayResult(statistic=18.48895253915249, pvalue=4.945434101915241e-13)"
      ]
     },
     "execution_count": 27,
     "metadata": {},
     "output_type": "execute_result"
    }
   ],
   "source": [
    "stats.f_oneway(final_exam['big_west'], final_exam['small_west'], final_exam['capital_city']\n",
    "             , final_exam['small_east'], final_exam['big_east'])"
   ]
  },
  {
   "cell_type": "markdown",
   "metadata": {},
   "source": [
    "<font size='3'>Karena p-value = 4.95 * 10^(-13) < 0.05, maka Ho ditolak, ternyata kualitas pendidikan di setiap wilayah belum merata. Perlu diselidiki wilayah dengan rata-rata terendah agar kualitas sarana pendidikan dan gurunya bisa ditingkatkan."
   ]
  },
  {
   "cell_type": "code",
   "execution_count": 28,
   "metadata": {},
   "outputs": [
    {
     "data": {
      "text/html": [
       "<div>\n",
       "<style scoped>\n",
       "    .dataframe tbody tr th:only-of-type {\n",
       "        vertical-align: middle;\n",
       "    }\n",
       "\n",
       "    .dataframe tbody tr th {\n",
       "        vertical-align: top;\n",
       "    }\n",
       "\n",
       "    .dataframe thead th {\n",
       "        text-align: right;\n",
       "    }\n",
       "</style>\n",
       "<table border=\"1\" class=\"dataframe\">\n",
       "  <thead>\n",
       "    <tr style=\"text-align: right;\">\n",
       "      <th></th>\n",
       "      <th>big_west</th>\n",
       "      <th>small_west</th>\n",
       "      <th>capital_city</th>\n",
       "      <th>big_east</th>\n",
       "      <th>small_east</th>\n",
       "    </tr>\n",
       "  </thead>\n",
       "  <tbody>\n",
       "    <tr>\n",
       "      <th>count</th>\n",
       "      <td>43.000000</td>\n",
       "      <td>43.000000</td>\n",
       "      <td>43.000000</td>\n",
       "      <td>43.000000</td>\n",
       "      <td>43.000000</td>\n",
       "    </tr>\n",
       "    <tr>\n",
       "      <th>mean</th>\n",
       "      <td>85.325581</td>\n",
       "      <td>83.837209</td>\n",
       "      <td>88.232558</td>\n",
       "      <td>79.209302</td>\n",
       "      <td>78.627907</td>\n",
       "    </tr>\n",
       "    <tr>\n",
       "      <th>std</th>\n",
       "      <td>5.982995</td>\n",
       "      <td>7.006562</td>\n",
       "      <td>6.159921</td>\n",
       "      <td>5.667611</td>\n",
       "      <td>6.302015</td>\n",
       "    </tr>\n",
       "    <tr>\n",
       "      <th>min</th>\n",
       "      <td>70.000000</td>\n",
       "      <td>70.000000</td>\n",
       "      <td>70.000000</td>\n",
       "      <td>70.000000</td>\n",
       "      <td>63.000000</td>\n",
       "    </tr>\n",
       "    <tr>\n",
       "      <th>25%</th>\n",
       "      <td>82.000000</td>\n",
       "      <td>78.500000</td>\n",
       "      <td>85.000000</td>\n",
       "      <td>75.000000</td>\n",
       "      <td>75.000000</td>\n",
       "    </tr>\n",
       "    <tr>\n",
       "      <th>50%</th>\n",
       "      <td>87.000000</td>\n",
       "      <td>84.000000</td>\n",
       "      <td>90.000000</td>\n",
       "      <td>78.000000</td>\n",
       "      <td>80.000000</td>\n",
       "    </tr>\n",
       "    <tr>\n",
       "      <th>75%</th>\n",
       "      <td>90.000000</td>\n",
       "      <td>89.500000</td>\n",
       "      <td>93.000000</td>\n",
       "      <td>83.000000</td>\n",
       "      <td>83.000000</td>\n",
       "    </tr>\n",
       "    <tr>\n",
       "      <th>max</th>\n",
       "      <td>94.000000</td>\n",
       "      <td>95.000000</td>\n",
       "      <td>96.000000</td>\n",
       "      <td>89.000000</td>\n",
       "      <td>90.000000</td>\n",
       "    </tr>\n",
       "  </tbody>\n",
       "</table>\n",
       "</div>"
      ],
      "text/plain": [
       "        big_west  small_west  capital_city   big_east  small_east\n",
       "count  43.000000   43.000000     43.000000  43.000000   43.000000\n",
       "mean   85.325581   83.837209     88.232558  79.209302   78.627907\n",
       "std     5.982995    7.006562      6.159921   5.667611    6.302015\n",
       "min    70.000000   70.000000     70.000000  70.000000   63.000000\n",
       "25%    82.000000   78.500000     85.000000  75.000000   75.000000\n",
       "50%    87.000000   84.000000     90.000000  78.000000   80.000000\n",
       "75%    90.000000   89.500000     93.000000  83.000000   83.000000\n",
       "max    94.000000   95.000000     96.000000  89.000000   90.000000"
      ]
     },
     "execution_count": 28,
     "metadata": {},
     "output_type": "execute_result"
    }
   ],
   "source": [
    "final_exam.describe()"
   ]
  },
  {
   "cell_type": "markdown",
   "metadata": {},
   "source": [
    "<font size='3'>Ternyata nilai rata-rata di ibukota jauh diatas wilayah lain, sementara kota kecil di timur mendapat nilai rata-rata terkecil. Sebagai menteri pendidikan berarti kamu harus membuat program untuk membangun sarana pendidikan yang lebih baik dan mengirim guru-guru terbaik ke kota kecil di wilayah timur."
   ]
  },
  {
   "cell_type": "markdown",
   "metadata": {},
   "source": [
    "---"
   ]
  },
  {
   "cell_type": "markdown",
   "metadata": {},
   "source": [
    "<font size='5'>LATIHAN 4<br><br>\n",
    "<font size='4'>**Uji Kruskal-Wallis (non-parametik)**<br><br>\n",
    "\n",
    "<font size='3'>\n",
    "Digunakan Uji Kruskal Wallis apabila data tidak berdistribusi normal atau tidak homogen."
   ]
  },
  {
   "cell_type": "code",
   "execution_count": 29,
   "metadata": {},
   "outputs": [
    {
     "data": {
      "text/plain": [
       "KruskalResult(statistic=57.244594069662135, pvalue=1.0992920086269013e-11)"
      ]
     },
     "execution_count": 29,
     "metadata": {},
     "output_type": "execute_result"
    }
   ],
   "source": [
    "stats.kruskal(final_exam['big_west'], final_exam['small_west'], final_exam['capital_city']\n",
    "             , final_exam['small_east'], final_exam['big_east'])"
   ]
  },
  {
   "cell_type": "markdown",
   "metadata": {},
   "source": [
    "<font size='3'>\n",
    "Karena p-value = 1.0993 * 10^(-11) < 0.05 artinya: Ho ditolak berarti ada perbedaan yang signifikan untuk kualitas di antar wilayah."
   ]
  },
  {
   "cell_type": "markdown",
   "metadata": {},
   "source": [
    "---"
   ]
  },
  {
   "cell_type": "markdown",
   "metadata": {},
   "source": [
    "<font size='5'>LATIHAN TAMBAHAN<br><br>\n",
    "\n",
    "<font size='3'>\n",
    "Misalkan kamu adalah data scientist di gojek. Kamu ingin mengetahui apakah kemacetan mempengaruhi tingkat kepuasan pelanggan. Jadi kamu ingin memebandingkan nilai \"bintang\" dari customer saat dia order di jam macet dan tidak macet. (#hint = data dari customer yang sama)<br><br>\n",
    "\n",
    "macet = [2, 3, 5, 4, 5, 4, 4, 3, 4, 3, 4, 5, 4, 5, 4, 3, 4, 3, 3, 5, 4, 3, 4, 3, 4, 3, 4, 4, 5]<br><br>\n",
    "\n",
    "tidak_macet = [2, 2, 4, 5, 4, 3, 3, 3, 3, 3, 3, 4, 4, 5, 4, 3, 3, 2, 3, 4, 4, 3, 3, 3, 4, 3, 4, 3, 4]<br><br>\n",
    "\n",
    "1. Buat hipotesisnya<br>\n",
    "2. Lakukan uji asumsi normalitasnya<br>\n",
    "3. Jika datanya normal lakukan uji parametrik, jika tidak berdistribusi normal lakukan uji nonparametrik<br>\n",
    "4. Apa kesimpulan uji hipotesisnya?<br><br>\n",
    "\n",
    "Jawab :"
   ]
  },
  {
   "cell_type": "markdown",
   "metadata": {},
   "source": [
    "![]('https://i.pinimg.com/236x/2a/0a/39/2a0a3934bec9c39a4f6cd2241895f94d.jpg')"
   ]
  },
  {
   "cell_type": "markdown",
   "metadata": {},
   "source": [
    "<font size='4'>Input Data"
   ]
  },
  {
   "cell_type": "code",
   "execution_count": 30,
   "metadata": {},
   "outputs": [],
   "source": [
    "macet = np.array([2, 3, 5, 4, 5, 4, 4, 3, 4, 3, 4, 5, 4, 5, 4, 3, 4, 3, 3, 5, 4, 3, 4, 3, 4, 3, 4, 4, 5])\n",
    "\n",
    "tidak_macet = np.array([2, 2, 4, 5, 4, 3, 3, 3, 3, 3, 3, 4, 4, 5, 4, 3, 3, 2, 3, 4, 4, 3, 3, 3, 4, 3, 4, 3, 4])"
   ]
  },
  {
   "cell_type": "markdown",
   "metadata": {},
   "source": [
    "<font size='4'>**Uji Normalitas**<br><br></font>\n",
    "\n",
    "<font size='3'>\n",
    "H0 = Data berdistribusi normal<br>\n",
    "H1 = Data tidak berdistribusi normal"
   ]
  },
  {
   "cell_type": "code",
   "execution_count": 32,
   "metadata": {},
   "outputs": [
    {
     "name": "stderr",
     "output_type": "stream",
     "text": [
      "C:\\Users\\RAYI\\AppData\\Local\\Programs\\Python\\Python39\\lib\\site-packages\\seaborn\\distributions.py:2619: FutureWarning: `distplot` is a deprecated function and will be removed in a future version. Please adapt your code to use either `displot` (a figure-level function with similar flexibility) or `histplot` (an axes-level function for histograms).\n",
      "  warnings.warn(msg, FutureWarning)\n"
     ]
    },
    {
     "data": {
      "image/png": "[encoded data removed]",
      "text/plain": [
       "<Figure size 432x288 with 1 Axes>"
      ]
     },
     "metadata": {
      "needs_background": "light"
     },
     "output_type": "display_data"
    },
    {
     "name": "stderr",
     "output_type": "stream",
     "text": [
      "C:\\Users\\RAYI\\AppData\\Local\\Programs\\Python\\Python39\\lib\\site-packages\\seaborn\\distributions.py:2619: FutureWarning: `distplot` is a deprecated function and will be removed in a future version. Please adapt your code to use either `displot` (a figure-level function with similar flexibility) or `histplot` (an axes-level function for histograms).\n",
      "  warnings.warn(msg, FutureWarning)\n"
     ]
    },
    {
     "data": {
      "image/png": "[encoded data removed]",
      "text/plain": [
       "<Figure size 432x288 with 1 Axes>"
      ]
     },
     "metadata": {
      "needs_background": "light"
     },
     "output_type": "display_data"
    }
   ],
   "source": [
    "sns.distplot(macet)\n",
    "plt.show()\n",
    "sns.distplot(tidak_macet)\n",
    "plt.show()"
   ]
  },
  {
   "cell_type": "markdown",
   "metadata": {},
   "source": [
    "<font size='3'>Dari kedua grafik, ada kemungkinan tidak berdistribusi normal."
   ]
  },
  {
   "cell_type": "markdown",
   "metadata": {},
   "source": [
    "<font size='4'>**Uji normalitas dengan menggunakan Uji Kolmogorov Smirnov**"
   ]
  },
  {
   "cell_type": "code",
   "execution_count": 35,
   "metadata": {},
   "outputs": [
    {
     "name": "stdout",
     "output_type": "stream",
     "text": [
      "uji kolmogorov smirnov data Macet =  KstestResult(statistic=0.2414618941043637, pvalue=0.056685222453497386)\n",
      "uji kolmogorov smirnov data Tidak Macet =  KstestResult(statistic=0.2769460572882385, pvalue=0.018550502658514323)\n"
     ]
    }
   ],
   "source": [
    "z_score_macet = stats.zscore(macet)\n",
    "z_score_tidak_macet = stats.zscore(tidak_macet)\n",
    "print('uji kolmogorov smirnov data Macet = ', stats.kstest(z_score_macet, \"norm\"))\n",
    "print('uji kolmogorov smirnov data Tidak Macet = ', stats.kstest(z_score_tidak_macet, \"norm\"))"
   ]
  },
  {
   "cell_type": "markdown",
   "metadata": {},
   "source": [
    "<Font size='3'>Dengan menggunakan Uji Kolomorov p-value untuk data Tidak Macet < 0.005, maka pengujian selanjutnya menggunakan data tidak berdistribusi normal."
   ]
  },
  {
   "cell_type": "markdown",
   "metadata": {},
   "source": [
    "<font size='4'>**Uji Mann-Whitney**</font><br><br>\n",
    "\n",
    "<font size='3'>\n",
    "Ada data yang tidak berdistribusi normal, sehingga dilakukan ke-independentan dengan Uji Mann-Whitney.<br><br>\n",
    "\n",
    "H0 = Independent<br>\n",
    "H1 = Tidak independet."
   ]
  },
  {
   "cell_type": "code",
   "execution_count": 36,
   "metadata": {},
   "outputs": [
    {
     "data": {
      "text/plain": [
       "MannwhitneyuResult(statistic=91.0, pvalue=0.7642583560538347)"
      ]
     },
     "execution_count": 36,
     "metadata": {},
     "output_type": "execute_result"
    }
   ],
   "source": [
    "stats.mannwhitneyu(A, B)"
   ]
  },
  {
   "cell_type": "markdown",
   "metadata": {},
   "source": [
    "<font size='3'>Dengan menggunakan Uji Mann-Whitney didapatkn p-value > 0.005, sehingga tidak terdapat perbedaan antara macet dan tidak macet"
   ]
  }
 ],
 "metadata": {
  "interpreter": {
   "hash": "7b44a6d216fe1c4fd6dcfc86e1209b9f13f5f07f0e5fe2b02b2a54f45312fa36"
  },
  "kernelspec": {
   "display_name": "Python 3.9.1 64-bit",
   "language": "python",
   "name": "python3"
  },
  "language_info": {
   "codemirror_mode": {
    "name": "ipython",
    "version": 3
   },
   "file_extension": ".py",
   "mimetype": "text/x-python",
   "name": "python",
   "nbconvert_exporter": "python",
   "pygments_lexer": "ipython3",
   "version": "3.9.1"
  },
  "orig_nbformat": 4
 },
 "nbformat": 4,
 "nbformat_minor": 2
}
