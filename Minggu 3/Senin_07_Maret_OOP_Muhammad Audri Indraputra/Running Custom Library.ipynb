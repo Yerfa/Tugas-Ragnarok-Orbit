{
 "cells": [
  {
   "cell_type": "markdown",
   "metadata": {},
   "source": [
    "<font size='6'>TUGAS FGD SENIN (Object Oriented Programming)</font><br><br>\n",
    "\n",
    "<font size='3'>\n",
    "Muhammad Audri Indraputra<br>\n",
    "Kelas Ragnarok<br>\n",
    "Senin, 7 Maret 2022<br></font>"
   ]
  },
  {
   "cell_type": "markdown",
   "metadata": {},
   "source": [
    "---"
   ]
  },
  {
   "cell_type": "markdown",
   "metadata": {},
   "source": [
    "<font size='5'>Import Custom Library"
   ]
  },
  {
   "cell_type": "code",
   "execution_count": 4,
   "metadata": {},
   "outputs": [],
   "source": [
    "import CustomLibrary as CL"
   ]
  },
  {
   "cell_type": "markdown",
   "metadata": {},
   "source": [
    "---"
   ]
  },
  {
   "cell_type": "markdown",
   "metadata": {},
   "source": [
    "<font size='5'>Encapsulation"
   ]
  },
  {
   "cell_type": "code",
   "execution_count": 5,
   "metadata": {},
   "outputs": [
    {
     "name": "stdout",
     "output_type": "stream",
     "text": [
      "Nama\t\t: Anaconda\n",
      "NPM\t\t: 9999999\n",
      "Fakultas\t: Tidak Diketahui\n",
      "Jurusan\t\t: Tidak Diketahui\n",
      "\n",
      "Nama\t\t: Anaknya Anaconda\n",
      "NPM\t\t: 88888\n",
      "Fakultas\t: MIPA\n",
      "Jurusan\t\t: Matematika\n",
      "\n",
      "----- Nama Berhasil Diganti ----- \n",
      "\n",
      "Nama\t\t: Bukan Anaknya Anaconda\n",
      "NPM\t\t: 88888\n",
      "Fakultas\t: MIPA\n",
      "Jurusan\t\t: Matematika\n",
      "\n"
     ]
    }
   ],
   "source": [
    "mahasiswa1 = CL.mahasiswa('Anaconda', 9999999)\n",
    "mahasiswa1.info_mahasiswa()\n",
    "\n",
    "mahasiswa2 = CL.mahasiswa('Anaknya Anaconda', 88888, 'MIPA', 'Matematika')\n",
    "mahasiswa2.info_mahasiswa()\n",
    "\n",
    "mahasiswa2.ganti_nama('Bukan Anaknya Anaconda')\n",
    "mahasiswa2.info_mahasiswa()"
   ]
  },
  {
   "cell_type": "markdown",
   "metadata": {},
   "source": [
    "---"
   ]
  },
  {
   "cell_type": "markdown",
   "metadata": {},
   "source": [
    "<font size='5'>Inheritence"
   ]
  },
  {
   "cell_type": "code",
   "execution_count": 6,
   "metadata": {},
   "outputs": [],
   "source": [
    "class fakultas(CL.mahasiswa_2):\n",
    "\n",
    "    fakultas_saat_ini = ''\n",
    "\n",
    "    def __init__(self, input_nama, input_npm, input_fakultas='Tidak Diketahui'):\n",
    "        super().__init__(input_nama, input_npm)\n",
    "        self.fakultas = input_fakultas\n",
    "        fakultas_saat_ini = input_fakultas\n",
    "    \n",
    "    def pindah_fakultas(self, input_fakultas=fakultas_saat_ini):\n",
    "        self.fakultas = input_fakultas\n",
    "    \n",
    "    def info_mahasiswa(self):\n",
    "        print(f'Nama\\t\\t: {self.nama}\\nNPM\\t\\t: {self.npm}\\nFakultas\\t: {self.fakultas}')"
   ]
  },
  {
   "cell_type": "code",
   "execution_count": 7,
   "metadata": {},
   "outputs": [
    {
     "name": "stdout",
     "output_type": "stream",
     "text": [
      "Nama\t\t: Doraemon\n",
      "NPM\t\t: 12345\n",
      "Fakultas\t: MIPA\n",
      "Nama\t\t: Doraemon\n",
      "NPM\t\t: 12345\n",
      "Fakultas\t: FISIP\n"
     ]
    }
   ],
   "source": [
    "fakultas1 = fakultas('Doraemon', 12345, 'MIPA')\n",
    "fakultas1.info_mahasiswa()\n",
    "\n",
    "fakultas1.pindah_fakultas('FISIP')\n",
    "fakultas1.info_mahasiswa()"
   ]
  },
  {
   "cell_type": "markdown",
   "metadata": {},
   "source": [
    "---"
   ]
  },
  {
   "cell_type": "code",
   "execution_count": 8,
   "metadata": {},
   "outputs": [],
   "source": [
    "class televisi(CL.Alat_Elektronik):\n",
    "    jenis = 'Televisi'\n",
    "    def identitas(self, input_nama, asal_negara='Tidak Diketahui'):\n",
    "        self.nama = input_nama\n",
    "        self.asal = asal_negara\n",
    "    \n",
    "    def kegunaan(self, input_guna):\n",
    "        self.guna = input_guna\n",
    "    \n",
    "    def kelistrikan(self, voltase='-', ampere='-'):\n",
    "        self.volt = voltase\n",
    "        self.amp = ampere\n",
    "    \n",
    "    def info(self):\n",
    "        print(f'{self.jenis}\\n\\nNama\\t\\t: {self.nama}\\nAsal\\t\\t: {self.asal}\\nKegunaan\\t: {self.guna}\\nVoltase\\t\\t: {self.volt}\\nAmpere\\t\\t: {self.amp}')"
   ]
  },
  {
   "cell_type": "code",
   "execution_count": 9,
   "metadata": {},
   "outputs": [
    {
     "name": "stdout",
     "output_type": "stream",
     "text": [
      "Televisi\n",
      "\n",
      "Nama\t\t: Polytron\n",
      "Asal\t\t: Indonesia\n",
      "Kegunaan\t: Menonton\n",
      "Voltase\t\t: 220\n",
      "Ampere\t\t: 150\n"
     ]
    }
   ],
   "source": [
    "TV1 = televisi()\n",
    "TV1.identitas('Polytron', 'Indonesia')\n",
    "TV1.kegunaan('Menonton')\n",
    "TV1.kelistrikan(voltase=220, ampere=150)\n",
    "TV1.info()"
   ]
  },
  {
   "cell_type": "code",
   "execution_count": 10,
   "metadata": {},
   "outputs": [],
   "source": [
    "class radio(CL.Alat_Elektronik):\n",
    "    jenis = 'Radio'\n",
    "    def identitas(self, input_nama, asal_negara='Tidak Diketahui'):\n",
    "        self.nama = input_nama\n",
    "        self.asal = asal_negara\n",
    "    \n",
    "    def kegunaan(self, input_guna):\n",
    "        self.guna = input_guna\n",
    "    \n",
    "    def kelistrikan(self, voltase='-', ampere='-'):\n",
    "        self.volt = voltase\n",
    "        self.amp = ampere\n",
    "    \n",
    "    def info(self):\n",
    "        print(f'{self.jenis}\\n\\nNama\\t\\t: {self.nama}\\nAsal\\t\\t: {self.asal}\\nKegunaan\\t: {self.guna}\\nVoltase\\t\\t: {self.volt}\\nAmpere\\t\\t: {self.amp}')"
   ]
  },
  {
   "cell_type": "code",
   "execution_count": 11,
   "metadata": {},
   "outputs": [
    {
     "name": "stdout",
     "output_type": "stream",
     "text": [
      "Radio\n",
      "\n",
      "Nama\t\t: Radio Kayu\n",
      "Asal\t\t: Indonesia\n",
      "Kegunaan\t: Mendengarkan Musik Berfrekuensi\n",
      "Voltase\t\t: 220\n",
      "Ampere\t\t: 200\n"
     ]
    }
   ],
   "source": [
    "radio1 = radio()\n",
    "radio1.identitas('Radio Kayu', 'Indonesia')\n",
    "radio1.kegunaan(input_guna='Mendengarkan Musik Berfrekuensi')\n",
    "radio1.kelistrikan(ampere=200, voltase=220)\n",
    "radio1.info()"
   ]
  },
  {
   "cell_type": "markdown",
   "metadata": {},
   "source": [
    "---"
   ]
  },
  {
   "cell_type": "markdown",
   "metadata": {},
   "source": [
    "<font size='5'>Polymorphism"
   ]
  },
  {
   "cell_type": "code",
   "execution_count": 13,
   "metadata": {},
   "outputs": [],
   "source": [
    "class Mixer(CL.Elektronik):\n",
    "    def __init__(self, nama, asal='-', kode='-', volt='-', ampere='-', harga='-'):\n",
    "        super().__init__(nama, asal, kode, volt, ampere)\n",
    "        self.harga = harga\n",
    "    \n",
    "    def deskripsi(self, fung):\n",
    "        self.desk = fung\n",
    "    \n",
    "    def desc(self):\n",
    "        if(self.harga > 200000):\n",
    "            info_harga = '. Namun barang ini cukup mahal dengan harga Rp. '\n",
    "        else:\n",
    "            info_harga = '. Barang ini sangat mendukung keuangan dengan harga Rp. '\n",
    "        print('\\nKegunaan barang ialah :\\n\\n' + str(self.desk) + info_harga + str(self.harga))"
   ]
  },
  {
   "cell_type": "code",
   "execution_count": 14,
   "metadata": {},
   "outputs": [
    {
     "name": "stdout",
     "output_type": "stream",
     "text": [
      "Nama\t\t: Xiaomi Mixer\n",
      "Asal\t\t: Jawa Barat\n",
      "Kode\t\t: 09EFAN\n",
      "Voltase\t\t: -\n",
      "Ampere\t\t: -\n",
      "\n",
      "Kegunaan barang ialah :\n",
      "\n",
      "Barang ini bermanfaat untuk menghancurkan dan mengaduk makanan. Barang ini sangat mendukung keuangan dengan harga Rp. 150000\n"
     ]
    }
   ],
   "source": [
    "m1 = Mixer('Xiaomi Mixer', asal='Jawa Barat', kode='09EFAN', harga=150000)\n",
    "m1.info()\n",
    "m1.deskripsi('Barang ini bermanfaat untuk menghancurkan dan mengaduk makanan')\n",
    "m1.desc()"
   ]
  },
  {
   "cell_type": "code",
   "execution_count": 15,
   "metadata": {},
   "outputs": [],
   "source": [
    "class Oven(CL.Elektronik):\n",
    "    def __init__(self, nama, asal='-', kode='-', volt='-', ampere='-', harga='-'):\n",
    "        super().__init__(nama, asal, kode, volt, ampere)\n",
    "        self.harga = harga\n",
    "    \n",
    "    def deskripsi(self, fung):\n",
    "        self.desk = fung\n",
    "    \n",
    "    def desc(self):\n",
    "        if(self.harga > 200000):\n",
    "            info_harga = '. Namun barang ini cukup mahal dengan harga Rp. '\n",
    "        else:\n",
    "            info_harga = '. Barang ini sangat mendukung keuangan dengan harga Rp. '\n",
    "        print('\\nKegunaan barang ialah :\\n\\n' + str(self.desk) + info_harga + str(self.harga))"
   ]
  },
  {
   "cell_type": "code",
   "execution_count": 16,
   "metadata": {},
   "outputs": [
    {
     "name": "stdout",
     "output_type": "stream",
     "text": [
      "Nama\t\t: Panadol\n",
      "Asal\t\t: Sulawesi\n",
      "Kode\t\t: 43KFJN\n",
      "Voltase\t\t: 220\n",
      "Ampere\t\t: 200\n",
      "\n",
      "Kegunaan barang ialah :\n",
      "\n",
      "Barang ini dapat digunakan untuk memasak atau memanaskan makanan. Namun barang ini cukup mahal dengan harga Rp. 300000\n"
     ]
    }
   ],
   "source": [
    "O1 = Oven('Panadol', 'Sulawesi', kode='43KFJN', volt=220, harga=300000, ampere=200)\n",
    "O1.info()\n",
    "O1.deskripsi('Barang ini dapat digunakan untuk memasak atau memanaskan makanan')\n",
    "O1.desc()"
   ]
  }
 ],
 "metadata": {
  "interpreter": {
   "hash": "7b44a6d216fe1c4fd6dcfc86e1209b9f13f5f07f0e5fe2b02b2a54f45312fa36"
  },
  "kernelspec": {
   "display_name": "Python 3.9.1 64-bit",
   "language": "python",
   "name": "python3"
  },
  "language_info": {
   "codemirror_mode": {
    "name": "ipython",
    "version": 3
   },
   "file_extension": ".py",
   "mimetype": "text/x-python",
   "name": "python",
   "nbconvert_exporter": "python",
   "pygments_lexer": "ipython3",
   "version": "3.9.1"
  },
  "orig_nbformat": 4
 },
 "nbformat": 4,
 "nbformat_minor": 2
}
