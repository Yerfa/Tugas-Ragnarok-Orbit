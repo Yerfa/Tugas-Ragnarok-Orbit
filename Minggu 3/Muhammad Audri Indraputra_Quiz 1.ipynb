{
 "cells": [
  {
   "cell_type": "markdown",
   "metadata": {},
   "source": [
    "<font size='6'>QUIZ 1</font><br><br>\n",
    "\n",
    "<font size='3'>\n",
    "Muhammad Audri Indraputra<br>\n",
    "Kelas Ragnarok<br>\n",
    "Jumat, 11 Maret 2022<br></font>"
   ]
  },
  {
   "cell_type": "markdown",
   "metadata": {},
   "source": [
    "---"
   ]
  },
  {
   "cell_type": "markdown",
   "metadata": {},
   "source": [
    "<font size='5'>Python OOP"
   ]
  },
  {
   "cell_type": "markdown",
   "metadata": {},
   "source": [
    "---"
   ]
  },
  {
   "cell_type": "markdown",
   "metadata": {},
   "source": [
    "<font size='4'>**1. Apa itu OOP dan cobalah buat 2 implementasi konsep OOP menggunakan Python!**</font><br><br>\n",
    "\n",
    "<font size='3'>OOP (Object Oriented Programming) adalah suatu metode yang berlandaskan seperti kelas (class) dan objek (object). Sesuai namanya, konsep ini untuk menyederhanakan suatu kumpulan paket fungsi yang akan digunakan kembali. Contohnya sebagai berikut.<br><br></font>\n",
    "\n",
    "<font size='4'>Contoh 1"
   ]
  },
  {
   "cell_type": "code",
   "execution_count": 1,
   "metadata": {},
   "outputs": [],
   "source": [
    "class Ikan(object):\n",
    "    def __init__(self, nama, jenis, warna):\n",
    "        self.nama = nama\n",
    "        self.jenis = jenis\n",
    "        self.warna = warna\n",
    "    \n",
    "    def info(self):\n",
    "        print(f'Nama\\t: {self.nama}\\nJensi\\t: {self.jenis}\\nWarna\\t: {self.warna}')\n"
   ]
  },
  {
   "cell_type": "code",
   "execution_count": 2,
   "metadata": {},
   "outputs": [
    {
     "name": "stdout",
     "output_type": "stream",
     "text": [
      "Nama\t: Nemo\n",
      "Jensi\t: Badut\n",
      "Warna\t: Merah\n"
     ]
    }
   ],
   "source": [
    "Ikan1 = Ikan('Nemo', 'Badut', 'Merah')\n",
    "Ikan1.info()"
   ]
  },
  {
   "cell_type": "markdown",
   "metadata": {},
   "source": [
    "<font size='4'>Contoh 2"
   ]
  },
  {
   "cell_type": "code",
   "execution_count": 3,
   "metadata": {},
   "outputs": [],
   "source": [
    "class Ular(object):\n",
    "    def __init__(self, nama, jenis, warna):\n",
    "        self.nama = nama\n",
    "        self.jenis = jenis\n",
    "        self.warna = warna\n",
    "    \n",
    "    def GantiKulit(self, warna):\n",
    "        self.warna = warna\n",
    "        \n",
    "    def info(self):\n",
    "        print(f'Nama\\t: {self.nama}\\nJensi\\t: {self.jenis}\\nWarna\\t: {self.warna}')"
   ]
  },
  {
   "cell_type": "code",
   "execution_count": 4,
   "metadata": {},
   "outputs": [
    {
     "name": "stdout",
     "output_type": "stream",
     "text": [
      "Nama\t: Snaky\n",
      "Jensi\t: Anaconda\n",
      "Warna\t: Hijau\n",
      "\n",
      "\n",
      "Nama\t: Snaky\n",
      "Jensi\t: Anaconda\n",
      "Warna\t: Merah\n"
     ]
    }
   ],
   "source": [
    "Ular1 = Ular('Snaky', warna='Hijau', jenis='Anaconda')\n",
    "Ular1.info()\n",
    "Ular1.GantiKulit('Merah')\n",
    "print('\\n')\n",
    "Ular1.info()"
   ]
  },
  {
   "cell_type": "markdown",
   "metadata": {},
   "source": [
    "<font size='4'>**2. Sebutkan dan jelaskan 2 jenis modules yang ada di Python!**<br><br>\n",
    "\n",
    "Jawab :</font><br>\n",
    "<font size='3'>\n",
    "1. math -> Untuk melakukan operasi matematika<br>\n",
    "2. numpy -> Sebagai modules Aljabar, seperti matriks, vector, dll</font>"
   ]
  },
  {
   "cell_type": "markdown",
   "metadata": {},
   "source": [
    "<font size='4'>**3. Hitunglah berapa hasil dari sqrt(175) + 4sqrt(7) + 1/3 + 3log 81 menggunakan module math !**"
   ]
  },
  {
   "cell_type": "code",
   "execution_count": 8,
   "metadata": {},
   "outputs": [
    {
     "data": {
      "text/plain": [
       "28.145095132914648"
      ]
     },
     "execution_count": 8,
     "metadata": {},
     "output_type": "execute_result"
    }
   ],
   "source": [
    "import math\n",
    "\n",
    "math.sqrt(175) + 4*math.sqrt(7) +  1/3 + math.log(81, 3)"
   ]
  },
  {
   "cell_type": "markdown",
   "metadata": {},
   "source": [
    "<font size='4'>**4. Apa itu custom exception handling dan berikan 1 contoh implementasinya !**<br><br>\n",
    "\n",
    "Jawab :</font><br>\n",
    "<font size='3'>Ialah suatu metode untuk memberikan kemungkinan yaitu apabila codingan error atau tidak beserta perlakuannya. <br><br>Contoh:\n"
   ]
  },
  {
   "cell_type": "code",
   "execution_count": 10,
   "metadata": {},
   "outputs": [
    {
     "name": "stdout",
     "output_type": "stream",
     "text": [
      "'Hai semuanya' bukanlah type data INT\n"
     ]
    }
   ],
   "source": [
    "try:\n",
    "    a = 'Hai semuanya'\n",
    "    int(a)\n",
    "    print(a)\n",
    "\n",
    "except:\n",
    "    print('\\''+ a + '\\'', 'bukanlah type data INT')"
   ]
  },
  {
   "cell_type": "markdown",
   "metadata": {},
   "source": [
    "---"
   ]
  },
  {
   "cell_type": "markdown",
   "metadata": {},
   "source": [
    "<font size='5'>Artificial Intelligence"
   ]
  },
  {
   "cell_type": "markdown",
   "metadata": {},
   "source": [
    "---"
   ]
  },
  {
   "cell_type": "markdown",
   "metadata": {},
   "source": [
    "<font size='4'>**1. Apa perbedaan dari structured dan unstructured data dan sebutkan 3 sumber data!**<br><br>\n",
    "\n",
    "Jawab :<br></font>\n",
    "\n",
    "<font size='3'>\n",
    "Perbedaannya ialah dari bentuk datanya. Structured itu berbentuk tabel (tabular), sedangkan Unstructured data berbentuk non tabel (text, video, dll). Sumbernya ialah sensor, camera, dan mic"
   ]
  },
  {
   "cell_type": "markdown",
   "metadata": {},
   "source": [
    "<font size='4'>**2. Jelaskan perbedaan AI, Machine Learning, dan Deep Learning**<br><br>\n",
    "\n",
    "Jawab :</font><br>\n",
    "\n",
    "<font size='3'>\n",
    "Machine Learning dan Deep Learning sama-sama memproses/mempelajari data, tetapi metode yang digunakan dan kegunaannya berbeda, seperti DL perlu data yang sangat banyak tetapi ML bisa data sedikit. Kemudian, Artificial Intelligence mencakup ML dan DL, tetapi lebih luas lagi dengan mengikuti konsep manusia berfikir dan berprilaku."
   ]
  },
  {
   "cell_type": "markdown",
   "metadata": {},
   "source": [
    "<font size='4'>**3. Apa perbedaan Machine Learning dengan Tradisional Software ?**<br><br>\n",
    "\n",
    "Jawab :</font><br>\n",
    "<font size='3'>\n",
    "Perbedaan dari cara pengaturannya, yang mana ML menganalisa data terlebih dahulu baru dibangun suatu metode tertentu sedangkan Tradisional software membangun metode terlebih dahulu kemudian dimasukan data"
   ]
  },
  {
   "cell_type": "markdown",
   "metadata": {},
   "source": [
    "<font size='4'>**4. Sebutkan 3 contok aplikasi Machine Learning di sektor smart city dan agriculture**<br><br>\n",
    "\n",
    "Jawab :<br></font>\n",
    "<font size='3'>\n",
    "Pendeteksi kecepatan laju mobil, pendeteksi penyakit tanaman, memprediksi curah hujan"
   ]
  },
  {
   "cell_type": "markdown",
   "metadata": {},
   "source": [
    "---"
   ]
  },
  {
   "cell_type": "markdown",
   "metadata": {},
   "source": [
    "<font size='5'>Maths for AI"
   ]
  },
  {
   "cell_type": "markdown",
   "metadata": {},
   "source": [
    "---"
   ]
  },
  {
   "cell_type": "markdown",
   "metadata": {},
   "source": [
    "<font size='4'>**1. Mengapa ilmu matematika pentik ketika mempelajari AI ?**<br><br>\n",
    "\n",
    "Jawab :</font><br>\n",
    "<font size='3'>Karena konsep matematika berperan penting dalam pembuatan AI"
   ]
  },
  {
   "cell_type": "markdown",
   "metadata": {},
   "source": [
    "<font size='4'>**2. Jelaskan perbedaan vektor dan skalar !**<br><br>\n",
    "\n",
    "Jawab :<br>\n",
    "<font size='3'>Vektor menunjukan suatu arah berdasarkan panjang setiap sumbu yang dilalui, sedangkan skalar menunjukan suatu nilai saja."
   ]
  },
  {
   "cell_type": "markdown",
   "metadata": {},
   "source": [
    "<font size='4'>**3. Apa perbedaan dari Jarak Euclidean dan Manhattan ?**<br><br>\n",
    "\n",
    "Jawab :<br></font>\n",
    "<font size='3'>\n",
    "Euclidean mengukur berdasarkan garis lurus, sedangkan Manhattan berdasarkan jarak setiap sumbu."
   ]
  },
  {
   "cell_type": "markdown",
   "metadata": {},
   "source": [
    "<font size='4'>**4. Apa kegunaan matriks dalam ilmu matematika ketika menerapkan AI?**<br><br>\n",
    "\n",
    "Jawab :</font><br>\n",
    "<font size='3'>\n",
    "Dapat diterapkan untuk penyususan data. Misal data tabular, picture (by pixel color), dll."
   ]
  },
  {
   "cell_type": "markdown",
   "metadata": {},
   "source": [
    "---"
   ]
  },
  {
   "cell_type": "markdown",
   "metadata": {},
   "source": [
    "<font size='5'>Machine Learning"
   ]
  },
  {
   "cell_type": "markdown",
   "metadata": {},
   "source": [
    "---"
   ]
  },
  {
   "cell_type": "markdown",
   "metadata": {},
   "source": [
    "<font size='4'>**1. Jelaskan perbedaan supervised dan unsupervised learning dan sebutka 2 contohnya !**<br><br>\n",
    "\n",
    "Jawab :<br></font>\n",
    "<font size='3'>\n",
    "Supervised berlabel (Memprediksi harga, cuaca, spam email), sedangkan unsupervised tidak (Menjual barang berdasarkan suatu wilayah, keberhasilan penjualan berdasarkan lokasi, computer vision)"
   ]
  },
  {
   "cell_type": "markdown",
   "metadata": {},
   "source": [
    "<font size='4'>**2. Sebutkan setiap tahap yang ada di AI life cycle dan jelaskan !**<br><br>\n",
    "\n",
    "Jawab :<br></font>\n",
    "\n",
    "<font size='3'>\n",
    "1. Mengidentifikasi masalah (Mengetahui terlebih dahulu masalahnya)<br>\n",
    "2. Mencari data (Mencari data yang sesuai berdasarkan permasalahan)<br>\n",
    "3. Data preperation (Mempersiapkan data)<br>\n",
    "4. Modelling (Memodelkan data berdasarkan model yang sesuai untuk data dan permasalahan)<br>\n",
    "5. Test Model (Melakukan uji coba terhadap model)<br>\n",
    "6. Deployment (Melakukan penerapan model pada suatu aplikasi)"
   ]
  },
  {
   "cell_type": "markdown",
   "metadata": {},
   "source": [
    "<font size='4'>**3. Perbedaan regression dengan clustering ?**<br><br>\n",
    "\n",
    "Jawab :<br></font>\n",
    "<font size='3'>\n",
    "Perbedaannya ialah regresi memprediksi suatu nilai dari kumpulan data dengan output angka (prediksi nilai atau angka selanjutnya), sedangkan clustering memprediksikan suatu hal akan memasuki suatu kelompok tertentu berdasarkan kriteria pengelompokan tertentu"
   ]
  },
  {
   "cell_type": "markdown",
   "metadata": {},
   "source": [
    "<font size='4'>**4. Apa itu algoritma Artificial Neural Network dan untuk apa fungsinya?**<br><br>\n",
    "\n",
    "Jawab :</font><br>\n",
    "Ialah model penalaran yang didasarkan pada cara kerja otak manusia, yaitu dengan menggunakan sejumlah prosesor sederhana yang saling terhubung (neuron).<br><br>\n",
    "\n",
    "Fungsinya ialah :<br>\n",
    "1. Klasifikasi Pola<br>\n",
    "2. Memetakan pola dari input ke output<br>\n",
    "3. Menyimpan pola<br>\n",
    "4. Memetakan beberapa pola sejenis<br>\n",
    "5. Mengoptimasi masalah<br>\n",
    "6. Melakukan prediksi"
   ]
  }
 ],
 "metadata": {
  "interpreter": {
   "hash": "7b44a6d216fe1c4fd6dcfc86e1209b9f13f5f07f0e5fe2b02b2a54f45312fa36"
  },
  "kernelspec": {
   "display_name": "Python 3.9.1 64-bit",
   "language": "python",
   "name": "python3"
  },
  "language_info": {
   "codemirror_mode": {
    "name": "ipython",
    "version": 3
   },
   "file_extension": ".py",
   "mimetype": "text/x-python",
   "name": "python",
   "nbconvert_exporter": "python",
   "pygments_lexer": "ipython3",
   "version": "3.9.1"
  },
  "orig_nbformat": 4
 },
 "nbformat": 4,
 "nbformat_minor": 2
}
