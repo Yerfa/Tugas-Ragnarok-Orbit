{
 "cells": [
  {
   "cell_type": "markdown",
   "metadata": {},
   "source": [
    "<font size='6'>TUGAS NUMPY DASAR</font><br><br>\n",
    "\n",
    "<font size='3'>\n",
    "Muhammad Audri Indraputra<br>\n",
    "Kelas Ragnarok<br>\n",
    "Rabu, 9 Maret 2022<br></font>"
   ]
  },
  {
   "cell_type": "markdown",
   "metadata": {},
   "source": [
    "---"
   ]
  },
  {
   "cell_type": "code",
   "execution_count": 1,
   "metadata": {},
   "outputs": [],
   "source": [
    "import numpy as np"
   ]
  },
  {
   "cell_type": "code",
   "execution_count": 2,
   "metadata": {},
   "outputs": [],
   "source": [
    "A = np.array([[1, 2], [7, 8]])\n",
    "B = np.array([[3, 5], [1, 6]])"
   ]
  },
  {
   "cell_type": "code",
   "execution_count": 3,
   "metadata": {},
   "outputs": [
    {
     "name": "stdout",
     "output_type": "stream",
     "text": [
      "2 * A =\n",
      " [[ 2  4]\n",
      " [14 16]] \n",
      "\n",
      "2 + A =\n",
      " [[ 3  4]\n",
      " [ 9 10]] \n",
      "\n",
      "A + B =\n",
      " [[ 4  7]\n",
      " [ 8 14]] \n",
      "\n",
      "A - B =\n",
      " [[-2 -3]\n",
      " [ 6  2]] \n",
      "\n",
      "Determinan A :\n",
      " -6.0 \n",
      "\n"
     ]
    }
   ],
   "source": [
    "print('2 * A =\\n', 2 * A,'\\n')\n",
    "print('2 + A =\\n', 2 + A,'\\n')\n",
    "print('A + B =\\n', A + B,'\\n')\n",
    "print('A - B =\\n', A - B,'\\n')\n",
    "print('Determinan A :\\n', np.linalg.det(A),'\\n')"
   ]
  },
  {
   "cell_type": "code",
   "execution_count": 4,
   "metadata": {},
   "outputs": [
    {
     "name": "stdout",
     "output_type": "stream",
     "text": [
      "Invers B = D, D ialah :\n",
      " [[ 0.46153846 -0.38461538]\n",
      " [-0.07692308  0.23076923]] \n",
      "\n",
      "Transpose D :\n",
      " [[ 0.46153846 -0.07692308]\n",
      " [-0.38461538  0.23076923]] \n",
      "\n",
      "Nilai Eigen A :\n",
      " [-0.62347538  9.62347538] \n",
      "\n",
      "Vektor Eigen A :\n",
      " [[-0.77640358 -0.22592838]\n",
      " [ 0.63023605 -0.97414391]] \n",
      "\n",
      "Nilai Eigen B :\n",
      " [1.8074176 7.1925824] \n",
      "\n",
      "Vektor Eigen B :\n",
      " [[-0.97271381 -0.76626443]\n",
      " [ 0.23200828 -0.64252535]] \n",
      "\n"
     ]
    }
   ],
   "source": [
    "D = np.linalg.inv(B)\n",
    "print('Invers B = D, D ialah :\\n', D, '\\n')\n",
    "print('Transpose D :\\n', np.transpose(D),'\\n')\n",
    "\n",
    "print('Nilai Eigen A :\\n',np.linalg.eig(A)[0],'\\n')\n",
    "print('Vektor Eigen A :\\n', np.linalg.eig(A)[1],'\\n')\n",
    "\n",
    "print('Nilai Eigen B :\\n',np.linalg.eig(B)[0],'\\n')\n",
    "print('Vektor Eigen B :\\n', np.linalg.eig(B)[1],'\\n')"
   ]
  }
 ],
 "metadata": {
  "interpreter": {
   "hash": "7b44a6d216fe1c4fd6dcfc86e1209b9f13f5f07f0e5fe2b02b2a54f45312fa36"
  },
  "kernelspec": {
   "display_name": "Python 3.9.1 64-bit",
   "language": "python",
   "name": "python3"
  },
  "language_info": {
   "codemirror_mode": {
    "name": "ipython",
    "version": 3
   },
   "file_extension": ".py",
   "mimetype": "text/x-python",
   "name": "python",
   "nbconvert_exporter": "python",
   "pygments_lexer": "ipython3",
   "version": "3.9.1"
  },
  "orig_nbformat": 4
 },
 "nbformat": 4,
 "nbformat_minor": 2
}
